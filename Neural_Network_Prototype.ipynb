{
 "cells": [
  {
   "cell_type": "code",
   "execution_count": 1,
   "id": "837760d2-5a3b-451f-8fa1-c64f92feb31b",
   "metadata": {},
   "outputs": [],
   "source": [
    "# Importing necessary libraries\n",
    "\n",
    "import tensorflow as tf\n",
    "import numpy as np\n",
    "import random"
   ]
  },
  {
   "cell_type": "code",
   "execution_count": 2,
   "id": "bd90fa43-bd62-46b2-b97b-9e0e9c2d5c8d",
   "metadata": {},
   "outputs": [],
   "source": [
    "# Assume each dance move to be a label numbered from 0-9.\n",
    "\n",
    "random.seed(100)\n",
    "\n",
    "dance_move_num=[]\n",
    "for i in range(10000):\n",
    "    dance_move_num.append(random.randint(0,9))\n",
    "dance_move_num=np.array(dance_move_num)\n",
    "\n",
    "# Assume each second in the music is represented by 2 values- Beat, and frequency.\n",
    "# Let all values of music be within the range of 0-100.\n",
    "\n",
    "music=[]\n",
    "for i in range(10000):         # Giving a definitive pattern to the music values and dance\n",
    "    if(dance_move_num[i]==0):\n",
    "        music.append([random.randrange(0,10),random.randrange(90,101)])\n",
    "    elif(dance_move_num[i]==1):\n",
    "        music.append([random.randrange(10,20),random.randrange(80,90)])\n",
    "    elif(dance_move_num[i]==2):\n",
    "        music.append([random.randrange(20,30),random.randrange(70,80)])\n",
    "    elif(dance_move_num[i]==3):\n",
    "        music.append([random.randrange(30,40),random.randrange(60,70)])\n",
    "    elif(dance_move_num[i]==4):\n",
    "        music.append([random.randrange(40,50),random.randrange(50,60)])\n",
    "    elif(dance_move_num[i]==5):\n",
    "        music.append([random.randrange(50,60),random.randrange(40,50)])\n",
    "    elif(dance_move_num[i]==6):\n",
    "        music.append([random.randrange(60,70),random.randrange(30,40)])\n",
    "    elif(dance_move_num[i]==7):\n",
    "        music.append([random.randrange(70,80),random.randrange(20,30)])\n",
    "    elif(dance_move_num[i]==8):\n",
    "        music.append([random.randrange(80,90),random.randrange(10,20)])\n",
    "    elif(dance_move_num[i]==9):\n",
    "        music.append([random.randrange(90,101),random.randrange(0,10)])\n",
    "music=np.array(music)"
   ]
  },
  {
   "cell_type": "code",
   "execution_count": 3,
   "id": "8e8b4d80-3b53-4b5f-aec6-89f7fca5aa83",
   "metadata": {},
   "outputs": [
    {
     "data": {
      "text/plain": [
       "array([2, 7, 7, ..., 1, 8, 0])"
      ]
     },
     "execution_count": 3,
     "metadata": {},
     "output_type": "execute_result"
    }
   ],
   "source": [
    "dance_move_num"
   ]
  },
  {
   "cell_type": "code",
   "execution_count": 4,
   "id": "1b686284-3f02-4315-96c3-1f50a3af302d",
   "metadata": {},
   "outputs": [
    {
     "data": {
      "text/plain": [
       "array([[29, 72],\n",
       "       [75, 23],\n",
       "       [72, 23],\n",
       "       ...,\n",
       "       [17, 81],\n",
       "       [83, 15],\n",
       "       [ 6, 98]])"
      ]
     },
     "execution_count": 4,
     "metadata": {},
     "output_type": "execute_result"
    }
   ],
   "source": [
    "music"
   ]
  },
  {
   "cell_type": "code",
   "execution_count": 5,
   "id": "ff024235-56a6-4673-a2cb-1398f4a94124",
   "metadata": {},
   "outputs": [],
   "source": [
    "# Split into train and test data in a 70:30 ratio respectively\n",
    "\n",
    "training_dance_move_num=dance_move_num[0:7000]\n",
    "training_music=music[0:7000]\n",
    "test_dance_move_num=dance_move_num[7000:]\n",
    "test_music=music[7000:]"
   ]
  },
  {
   "cell_type": "code",
   "execution_count": 6,
   "id": "86e5317a-b331-45f4-b0a6-2d8e34f0d2bd",
   "metadata": {},
   "outputs": [
    {
     "data": {
      "text/plain": [
       "array([[29, 72],\n",
       "       [75, 23],\n",
       "       [72, 23],\n",
       "       ...,\n",
       "       [84, 14],\n",
       "       [16, 89],\n",
       "       [35, 64]])"
      ]
     },
     "execution_count": 6,
     "metadata": {},
     "output_type": "execute_result"
    }
   ],
   "source": [
    "training_music"
   ]
  },
  {
   "cell_type": "code",
   "execution_count": 7,
   "id": "3e142550",
   "metadata": {},
   "outputs": [
    {
     "data": {
      "text/plain": [
       "array([2, 7, 7, ..., 8, 1, 3])"
      ]
     },
     "execution_count": 7,
     "metadata": {},
     "output_type": "execute_result"
    }
   ],
   "source": [
    "training_dance_move_num"
   ]
  },
  {
   "cell_type": "code",
   "execution_count": 8,
   "id": "986a2be4-d34e-4c30-a83f-3fb1c60ee939",
   "metadata": {},
   "outputs": [],
   "source": [
    "# Using DNN neural networks because of using a very small number of dance moves.\n",
    "# Small number of dance moves is chosen because of this being a prototype.\n",
    "# LSTM neural network will be used when building the real model with real-time data.\n",
    "\n",
    "# Consturction of the DNN neural network.\n",
    "\n",
    "model=tf.keras.models.Sequential()\n",
    "model.add(tf.keras.layers.Flatten())\n",
    "model.add(tf.keras.layers.Dense(32, activation=tf.keras.activations.relu))\n",
    "model.add(tf.keras.layers.Dense(16, activation=tf.keras.activations.relu))\n",
    "model.add(tf.keras.layers.Dense(10, activation=tf.keras.activations.softmax))"
   ]
  },
  {
   "cell_type": "code",
   "execution_count": 9,
   "id": "8b0edb0f-e2a7-4ddb-a45e-4ef9dde5ef51",
   "metadata": {},
   "outputs": [
    {
     "name": "stderr",
     "output_type": "stream",
     "text": [
      "WARNING:absl:At this time, the v2.11+ optimizer `tf.keras.optimizers.Adam` runs slowly on M1/M2 Macs, please use the legacy Keras optimizer instead, located at `tf.keras.optimizers.legacy.Adam`.\n",
      "WARNING:absl:There is a known slowdown when using v2.11+ Keras optimizers on M1/M2 Macs. Falling back to the legacy Keras optimizer, i.e., `tf.keras.optimizers.legacy.Adam`.\n"
     ]
    }
   ],
   "source": [
    "# defining optimizer, loss, and metrics for the model.\n",
    "\n",
    "model.compile(optimizer=tf.keras.optimizers.Adam(),loss=tf.keras.losses.sparse_categorical_crossentropy,metrics=[\"accuracy\"])"
   ]
  },
  {
   "cell_type": "code",
   "execution_count": 10,
   "id": "26ccbe8a-ae82-4b6e-8132-3b43d9f2083e",
   "metadata": {},
   "outputs": [
    {
     "name": "stdout",
     "output_type": "stream",
     "text": [
      "Epoch 1/10\n"
     ]
    },
    {
     "name": "stderr",
     "output_type": "stream",
     "text": [
      "2024-02-03 23:26:57.209612: W tensorflow/tsl/platform/profile_utils/cpu_utils.cc:128] Failed to get CPU frequency: 0 Hz\n"
     ]
    },
    {
     "name": "stdout",
     "output_type": "stream",
     "text": [
      "219/219 [==============================] - 0s 515us/step - loss: 1.9880 - accuracy: 0.5589\n",
      "Epoch 2/10\n",
      "219/219 [==============================] - 0s 526us/step - loss: 0.3708 - accuracy: 0.9609\n",
      "Epoch 3/10\n",
      "219/219 [==============================] - 0s 490us/step - loss: 0.1782 - accuracy: 0.9907\n",
      "Epoch 4/10\n",
      "219/219 [==============================] - 0s 486us/step - loss: 0.1140 - accuracy: 0.9956\n",
      "Epoch 5/10\n",
      "219/219 [==============================] - 0s 478us/step - loss: 0.0838 - accuracy: 0.9969\n",
      "Epoch 6/10\n",
      "219/219 [==============================] - 0s 479us/step - loss: 0.0639 - accuracy: 0.9984\n",
      "Epoch 7/10\n",
      "219/219 [==============================] - 0s 648us/step - loss: 0.0531 - accuracy: 0.9976\n",
      "Epoch 8/10\n",
      "219/219 [==============================] - 0s 491us/step - loss: 0.0459 - accuracy: 0.9964\n",
      "Epoch 9/10\n",
      "219/219 [==============================] - 0s 478us/step - loss: 0.0390 - accuracy: 0.9977\n",
      "Epoch 10/10\n",
      "219/219 [==============================] - 0s 475us/step - loss: 0.0340 - accuracy: 0.9976\n"
     ]
    },
    {
     "data": {
      "text/plain": [
       "<keras.callbacks.History at 0x14b71df70>"
      ]
     },
     "execution_count": 10,
     "metadata": {},
     "output_type": "execute_result"
    }
   ],
   "source": [
    "# training model\n",
    "\n",
    "model.fit(training_music,training_dance_move_num,epochs=10)"
   ]
  },
  {
   "cell_type": "code",
   "execution_count": 11,
   "id": "4821e6d8-699b-4e15-afe7-7c1b56688997",
   "metadata": {},
   "outputs": [
    {
     "name": "stdout",
     "output_type": "stream",
     "text": [
      "Model: \"sequential\"\n",
      "_________________________________________________________________\n",
      " Layer (type)                Output Shape              Param #   \n",
      "=================================================================\n",
      " flatten (Flatten)           (None, 2)                 0         \n",
      "                                                                 \n",
      " dense (Dense)               (None, 32)                96        \n",
      "                                                                 \n",
      " dense_1 (Dense)             (None, 16)                528       \n",
      "                                                                 \n",
      " dense_2 (Dense)             (None, 10)                170       \n",
      "                                                                 \n",
      "=================================================================\n",
      "Total params: 794\n",
      "Trainable params: 794\n",
      "Non-trainable params: 0\n",
      "_________________________________________________________________\n"
     ]
    }
   ],
   "source": [
    "# Summary of model.\n",
    "\n",
    "model.summary()"
   ]
  },
  {
   "cell_type": "code",
   "execution_count": 12,
   "id": "8148b8c4-295b-4c29-a7f7-e24e2e0a3801",
   "metadata": {},
   "outputs": [
    {
     "name": "stdout",
     "output_type": "stream",
     "text": [
      "94/94 [==============================] - 0s 443us/step - loss: 0.0317 - accuracy: 0.9997\n"
     ]
    },
    {
     "data": {
      "text/plain": [
       "[0.031730685383081436, 0.999666690826416]"
      ]
     },
     "execution_count": 12,
     "metadata": {},
     "output_type": "execute_result"
    }
   ],
   "source": [
    "# Observing results for unseen data. \n",
    "# As the accuracy for unseen data is also high, we can assume that the model works perfectly without overfitting.\n",
    "\n",
    "model.evaluate(test_music,test_dance_move_num)"
   ]
  },
  {
   "cell_type": "code",
   "execution_count": 13,
   "id": "110783a0-a495-4bb3-82fc-1201275f105a",
   "metadata": {},
   "outputs": [
    {
     "name": "stdout",
     "output_type": "stream",
     "text": [
      "1/1 [==============================] - 0s 59ms/step\n",
      "[[2.08436995e-06 4.39218365e-20 2.74330959e-13 5.72716880e-15\n",
      "  1.21173425e-14 4.22548146e-14 3.26560380e-18 3.66471176e-14\n",
      "  1.59053870e-05 9.99982119e-01]]\n"
     ]
    }
   ],
   "source": [
    "# Predicitng a random value.\n",
    "# The output gives the probability of the dance moves in the order from 0 to 9.\n",
    "\n",
    "a=model.predict([[93,3]])\n",
    "print(a)"
   ]
  },
  {
   "cell_type": "code",
   "execution_count": 14,
   "id": "8bf25c32-c900-43e3-bb3b-0803deb9f520",
   "metadata": {},
   "outputs": [
    {
     "data": {
      "text/plain": [
       "9"
      ]
     },
     "execution_count": 14,
     "metadata": {},
     "output_type": "execute_result"
    }
   ],
   "source": [
    "# The output returns the dance move number with highest probabilty.\n",
    "\n",
    "np.argmax(a)"
   ]
  },
  {
   "cell_type": "code",
   "execution_count": 15,
   "id": "305e7e78-3a08-4d44-95c4-7e1e59007743",
   "metadata": {},
   "outputs": [
    {
     "name": "stdout",
     "output_type": "stream",
     "text": [
      "1/1 [==============================] - 0s 15ms/step\n",
      "1/1 [==============================] - 0s 12ms/step\n",
      "1/1 [==============================] - 0s 13ms/step\n",
      "1/1 [==============================] - 0s 12ms/step\n",
      "1/1 [==============================] - 0s 12ms/step\n",
      "1/1 [==============================] - 0s 12ms/step\n",
      "1/1 [==============================] - 0s 13ms/step\n",
      "1/1 [==============================] - 0s 12ms/step\n",
      "1/1 [==============================] - 0s 12ms/step\n",
      "1/1 [==============================] - 0s 12ms/step\n",
      "1/1 [==============================] - 0s 12ms/step\n",
      "1/1 [==============================] - 0s 11ms/step\n",
      "1/1 [==============================] - 0s 11ms/step\n",
      "1/1 [==============================] - 0s 12ms/step\n",
      "1/1 [==============================] - 0s 12ms/step\n",
      "1/1 [==============================] - 0s 12ms/step\n",
      "1/1 [==============================] - 0s 12ms/step\n",
      "1/1 [==============================] - 0s 12ms/step\n",
      "1/1 [==============================] - 0s 12ms/step\n",
      "1/1 [==============================] - 0s 12ms/step\n",
      "1/1 [==============================] - 0s 12ms/step\n",
      "1/1 [==============================] - 0s 12ms/step\n",
      "1/1 [==============================] - 0s 12ms/step\n",
      "1/1 [==============================] - 0s 12ms/step\n",
      "1/1 [==============================] - 0s 12ms/step\n",
      "1/1 [==============================] - 0s 12ms/step\n",
      "1/1 [==============================] - 0s 12ms/step\n",
      "1/1 [==============================] - 0s 12ms/step\n",
      "1/1 [==============================] - 0s 12ms/step\n",
      "1/1 [==============================] - 0s 12ms/step\n"
     ]
    }
   ],
   "source": [
    "# Continuous dance steps for a song lasting 30 sec.\n",
    "\n",
    "dance_moves=[]\n",
    "for i in range(30):\n",
    "    z=model.predict(np.array([test_music[i]]))\n",
    "    dance_moves.append(np.argmax(z))"
   ]
  },
  {
   "cell_type": "code",
   "execution_count": 16,
   "id": "05640307-d06f-492f-902b-4abb58060432",
   "metadata": {},
   "outputs": [
    {
     "data": {
      "text/plain": [
       "array([4, 1, 5, 5, 6, 8, 4, 9, 9, 4, 6, 6, 4, 1, 5, 5, 3, 5, 8, 8, 6, 6,\n",
       "       3, 0, 2, 7, 6, 4, 1, 7])"
      ]
     },
     "execution_count": 16,
     "metadata": {},
     "output_type": "execute_result"
    }
   ],
   "source": [
    "# Dance moves\n",
    "\n",
    "dance_moves=np.array(dance_moves)\n",
    "dance_moves"
   ]
  },
  {
   "cell_type": "code",
   "execution_count": null,
   "id": "1c04f99b-735d-442d-978c-8ecbb65fc265",
   "metadata": {},
   "outputs": [],
   "source": []
  }
 ],
 "metadata": {
  "kernelspec": {
   "display_name": "Python 3 (ipykernel)",
   "language": "python",
   "name": "python3"
  },
  "language_info": {
   "codemirror_mode": {
    "name": "ipython",
    "version": 3
   },
   "file_extension": ".py",
   "mimetype": "text/x-python",
   "name": "python",
   "nbconvert_exporter": "python",
   "pygments_lexer": "ipython3",
   "version": "3.8.18"
  }
 },
 "nbformat": 4,
 "nbformat_minor": 5
}
